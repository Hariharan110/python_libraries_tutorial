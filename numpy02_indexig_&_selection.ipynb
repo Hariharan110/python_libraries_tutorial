{
  "nbformat": 4,
  "nbformat_minor": 0,
  "metadata": {
    "colab": {
      "provenance": []
    },
    "kernelspec": {
      "name": "python3",
      "display_name": "Python 3"
    },
    "language_info": {
      "name": "python"
    }
  },
  "cells": [
    {
      "cell_type": "code",
      "source": [
        "import numpy as np"
      ],
      "metadata": {
        "id": "CU5LuDYaGEWC"
      },
      "execution_count": null,
      "outputs": []
    },
    {
      "cell_type": "code",
      "source": [
        "n=np.arange(1,11)\n",
        "n"
      ],
      "metadata": {
        "id": "7X8LwaRLGGfD",
        "colab": {
          "base_uri": "https://localhost:8080/"
        },
        "outputId": "befce1af-607d-43e4-b901-35dcacee3150"
      },
      "execution_count": null,
      "outputs": [
        {
          "output_type": "execute_result",
          "data": {
            "text/plain": [
              "array([ 1,  2,  3,  4,  5,  6,  7,  8,  9, 10])"
            ]
          },
          "metadata": {},
          "execution_count": 2
        }
      ]
    },
    {
      "cell_type": "markdown",
      "source": [
        "***....indexing....***"
      ],
      "metadata": {
        "id": "K6ad29fXcX3v"
      }
    },
    {
      "cell_type": "code",
      "source": [
        "n[3]"
      ],
      "metadata": {
        "id": "g-0sr5HfUFhB",
        "colab": {
          "base_uri": "https://localhost:8080/"
        },
        "outputId": "1f718204-d053-4fdb-b1dc-34e342a4e3b0"
      },
      "execution_count": null,
      "outputs": [
        {
          "output_type": "execute_result",
          "data": {
            "text/plain": [
              "4"
            ]
          },
          "metadata": {},
          "execution_count": 10
        }
      ]
    },
    {
      "cell_type": "code",
      "source": [
        "n[1:7]\n",
        "n[-5:]"
      ],
      "metadata": {
        "id": "i4k_5c9_U-MM",
        "colab": {
          "base_uri": "https://localhost:8080/"
        },
        "outputId": "a5a6ed00-fe80-4e38-9d73-a550810bae86"
      },
      "execution_count": null,
      "outputs": [
        {
          "output_type": "execute_result",
          "data": {
            "text/plain": [
              "array([45,  7,  8,  9, 10])"
            ]
          },
          "metadata": {},
          "execution_count": 42
        }
      ]
    },
    {
      "cell_type": "code",
      "source": [
        "\n",
        "lst=[1,2,3,4,6,7,8]\n",
        "lst[::-1]"
      ],
      "metadata": {
        "id": "ZMQzCAymWDWq",
        "outputId": "42416a4f-06ad-4847-dc42-fba39bc8db90",
        "colab": {
          "base_uri": "https://localhost:8080/"
        }
      },
      "execution_count": null,
      "outputs": [
        {
          "output_type": "execute_result",
          "data": {
            "text/plain": [
              "[8, 7, 6, 4, 3, 2, 1]"
            ]
          },
          "metadata": {},
          "execution_count": 33
        }
      ]
    },
    {
      "cell_type": "code",
      "source": [],
      "metadata": {
        "id": "jX-6mtLViRFR"
      },
      "execution_count": null,
      "outputs": []
    },
    {
      "cell_type": "markdown",
      "source": [
        "***broadcasting***"
      ],
      "metadata": {
        "id": "_ipu4Eo0iUkG"
      }
    },
    {
      "cell_type": "code",
      "source": [
        "ar1=n[:6]\n",
        "ar1[:]=45\n",
        "ar1"
      ],
      "metadata": {
        "id": "_sOnntosWI29",
        "colab": {
          "base_uri": "https://localhost:8080/"
        },
        "outputId": "fb2e4eaf-b5c9-471e-d064-fa178cb89e5e"
      },
      "execution_count": null,
      "outputs": [
        {
          "output_type": "execute_result",
          "data": {
            "text/plain": [
              "array([45, 45, 45, 45, 45, 45])"
            ]
          },
          "metadata": {},
          "execution_count": 50
        }
      ]
    },
    {
      "cell_type": "code",
      "source": [
        "n\n",
        " # memory errror : i took slicing array and stored another variable(ar1) and changed the value of (ar1)... it change the orginal array value of(n)\n",
        " # solution : shallow copy medhode"
      ],
      "metadata": {
        "colab": {
          "base_uri": "https://localhost:8080/"
        },
        "id": "sbrVlAAujEXn",
        "outputId": "4f78f858-6a85-4815-94ad-698ed5046fae"
      },
      "execution_count": null,
      "outputs": [
        {
          "output_type": "execute_result",
          "data": {
            "text/plain": [
              "array([45, 45, 45, 45, 45, 45,  7,  8,  9, 10])"
            ]
          },
          "metadata": {},
          "execution_count": 51
        }
      ]
    },
    {
      "cell_type": "code",
      "source": [
        "ar2=n[:5].copy()\n",
        "ar2[:]=[3,4,5,7,8]\n",
        "ar1\n",
        "ar3=n[:5].copy()\n",
        "ar3[:]=[3,4,5,7,8]\n",
        "ar3"
      ],
      "metadata": {
        "colab": {
          "base_uri": "https://localhost:8080/"
        },
        "id": "h-235PPWknFs",
        "outputId": "afcf648b-f5bd-4734-e40f-6dc48a137f65"
      },
      "execution_count": null,
      "outputs": [
        {
          "output_type": "execute_result",
          "data": {
            "text/plain": [
              "array([3, 4, 5, 7, 8])"
            ]
          },
          "metadata": {},
          "execution_count": 61
        }
      ]
    },
    {
      "cell_type": "code",
      "source": [
        "n\n"
      ],
      "metadata": {
        "colab": {
          "base_uri": "https://localhost:8080/"
        },
        "id": "4coJHgDulRS_",
        "outputId": "4b674cbe-619a-47c1-d702-538be73f6540"
      },
      "execution_count": null,
      "outputs": [
        {
          "output_type": "stream",
          "name": "stdout",
          "text": [
            "[ 1  2  3  4  5  6  7  8  9 10]\n"
          ]
        },
        {
          "output_type": "execute_result",
          "data": {
            "text/plain": [
              "array([3, 4, 5, 7, 8])"
            ]
          },
          "metadata": {},
          "execution_count": 60
        }
      ]
    },
    {
      "cell_type": "markdown",
      "source": [
        "**indexing 2D array(matrixes).....**"
      ],
      "metadata": {
        "id": "bN6i3NNUmVBm"
      }
    },
    {
      "cell_type": "code",
      "source": [
        "m1=np.array([ [1,2,3,4],[5,6,7,8],[9,9,7,5] , [5,6,3,6] ])"
      ],
      "metadata": {
        "id": "EOa-FLO-mfaR"
      },
      "execution_count": null,
      "outputs": []
    },
    {
      "cell_type": "code",
      "source": [
        "m1"
      ],
      "metadata": {
        "id": "aJ_-3bvlwAdD"
      },
      "execution_count": null,
      "outputs": []
    },
    {
      "cell_type": "code",
      "source": [
        "m1.reshape(2,8)"
      ],
      "metadata": {
        "colab": {
          "base_uri": "https://localhost:8080/"
        },
        "id": "gjIYNRqEm2d7",
        "outputId": "fa37e6df-e8f4-4286-fe79-2a409ae35605"
      },
      "execution_count": null,
      "outputs": [
        {
          "output_type": "execute_result",
          "data": {
            "text/plain": [
              "array([[1, 2, 3, 4, 5, 5, 5, 8],\n",
              "       [9, 5, 5, 5, 5, 6, 3, 6]])"
            ]
          },
          "metadata": {},
          "execution_count": 105
        }
      ]
    },
    {
      "cell_type": "code",
      "source": [
        "m1.shape"
      ],
      "metadata": {
        "colab": {
          "base_uri": "https://localhost:8080/"
        },
        "id": "mtCIHnVJxYr0",
        "outputId": "76722900-abd6-4dc7-8624-5e50706bf624"
      },
      "execution_count": null,
      "outputs": [
        {
          "output_type": "execute_result",
          "data": {
            "text/plain": [
              "(4, 4)"
            ]
          },
          "metadata": {},
          "execution_count": 94
        }
      ]
    },
    {
      "cell_type": "code",
      "source": [
        "m1[1,3] #acces accesing the  value in 2d array\n",
        "m1[1][3]"
      ],
      "metadata": {
        "colab": {
          "base_uri": "https://localhost:8080/"
        },
        "id": "9uan0a9ryEJp",
        "outputId": "8243f250-e9ee-4014-8d6d-6f4d7e7a3dad"
      },
      "execution_count": null,
      "outputs": [
        {
          "output_type": "execute_result",
          "data": {
            "text/plain": [
              "8"
            ]
          },
          "metadata": {},
          "execution_count": 101
        }
      ]
    },
    {
      "cell_type": "code",
      "source": [
        "m1[1:3,1:3] #slicing"
      ],
      "metadata": {
        "colab": {
          "base_uri": "https://localhost:8080/"
        },
        "id": "6UtFu9uGnp4e",
        "outputId": "2912f678-1a3f-43c0-c707-1c99ba80f5e1"
      },
      "execution_count": null,
      "outputs": [
        {
          "output_type": "execute_result",
          "data": {
            "text/plain": [
              "array([[6, 7],\n",
              "       [9, 7]])"
            ]
          },
          "metadata": {},
          "execution_count": 108
        }
      ]
    },
    {
      "cell_type": "code",
      "source": [
        "m2=m1[1:3,1:3].copy()\n",
        "m2[:]=4\n",
        "m2"
      ],
      "metadata": {
        "colab": {
          "base_uri": "https://localhost:8080/"
        },
        "id": "7AHDSkxx7Sdg",
        "outputId": "1850272a-4db7-433f-ee87-ecf304d89b7f"
      },
      "execution_count": null,
      "outputs": [
        {
          "output_type": "execute_result",
          "data": {
            "text/plain": [
              "array([[4, 4],\n",
              "       [4, 4]])"
            ]
          },
          "metadata": {},
          "execution_count": 114
        }
      ]
    },
    {
      "cell_type": "code",
      "source": [],
      "metadata": {
        "id": "X3fZXbah7bv6"
      },
      "execution_count": null,
      "outputs": []
    },
    {
      "cell_type": "markdown",
      "source": [
        "***Selection....***"
      ],
      "metadata": {
        "id": "v9Wrc-i4_3Pd"
      }
    },
    {
      "cell_type": "code",
      "source": [
        "m1>4  #selection based off ccomparision operators\n",
        "      # it will only return boolean values"
      ],
      "metadata": {
        "colab": {
          "base_uri": "https://localhost:8080/"
        },
        "id": "cJP9PEqlD8L1",
        "outputId": "030b10ef-dfe2-4469-9545-04d57c8bf790"
      },
      "execution_count": null,
      "outputs": [
        {
          "output_type": "execute_result",
          "data": {
            "text/plain": [
              "array([[False, False, False, False],\n",
              "       [ True,  True,  True,  True],\n",
              "       [ True,  True,  True,  True],\n",
              "       [ True,  True, False,  True]])"
            ]
          },
          "metadata": {},
          "execution_count": 115
        }
      ]
    },
    {
      "cell_type": "code",
      "source": [
        "m1[m1>2]"
      ],
      "metadata": {
        "colab": {
          "base_uri": "https://localhost:8080/"
        },
        "id": "3G5MhiaiEPEL",
        "outputId": "c9265592-0ce0-491a-f3b2-ca09ec69c17a"
      },
      "execution_count": null,
      "outputs": [
        {
          "output_type": "execute_result",
          "data": {
            "text/plain": [
              "array([3, 4, 5, 6, 7, 8, 9, 9, 7, 5, 5, 6, 3, 6])"
            ]
          },
          "metadata": {},
          "execution_count": 116
        }
      ]
    },
    {
      "cell_type": "code",
      "source": [
        "m1[m1>=6]"
      ],
      "metadata": {
        "colab": {
          "base_uri": "https://localhost:8080/"
        },
        "id": "srYdn-JjEXUG",
        "outputId": "f759dcec-07d4-420f-da24-403c324a65b4"
      },
      "execution_count": null,
      "outputs": [
        {
          "output_type": "execute_result",
          "data": {
            "text/plain": [
              "array([6, 7, 8, 9, 9, 7, 6, 6])"
            ]
          },
          "metadata": {},
          "execution_count": 117
        }
      ]
    },
    {
      "cell_type": "code",
      "source": [
        "m1[m1==8]"
      ],
      "metadata": {
        "colab": {
          "base_uri": "https://localhost:8080/"
        },
        "id": "okokcyTDEarQ",
        "outputId": "6a10460c-f829-4003-d7c2-0962d7aa6ab1"
      },
      "execution_count": null,
      "outputs": [
        {
          "output_type": "execute_result",
          "data": {
            "text/plain": [
              "array([8])"
            ]
          },
          "metadata": {},
          "execution_count": 118
        }
      ]
    },
    {
      "cell_type": "code",
      "source": [
        "# arithmetic operations"
      ],
      "metadata": {
        "id": "DJEjhRMfo4rW"
      },
      "execution_count": null,
      "outputs": []
    },
    {
      "cell_type": "code",
      "source": [
        "m1"
      ],
      "metadata": {
        "colab": {
          "base_uri": "https://localhost:8080/"
        },
        "id": "j6w34Bjbo4vl",
        "outputId": "3472d568-c21d-4110-f2b5-4ad8f06c8ed6"
      },
      "execution_count": null,
      "outputs": [
        {
          "output_type": "execute_result",
          "data": {
            "text/plain": [
              "array([[1, 2, 3, 4],\n",
              "       [5, 6, 7, 8],\n",
              "       [9, 9, 7, 5],\n",
              "       [5, 6, 3, 6]])"
            ]
          },
          "metadata": {},
          "execution_count": 4
        }
      ]
    },
    {
      "cell_type": "code",
      "source": [
        "m2=m1+m1 #add 2 array"
      ],
      "metadata": {
        "id": "pUjHMDaBo9G9"
      },
      "execution_count": null,
      "outputs": []
    },
    {
      "cell_type": "code",
      "source": [
        "m2"
      ],
      "metadata": {
        "colab": {
          "base_uri": "https://localhost:8080/"
        },
        "id": "yqjW4Fh4pM-v",
        "outputId": "e2c6d62f-57c4-44fe-a8fe-1590ac834dd4"
      },
      "execution_count": null,
      "outputs": [
        {
          "output_type": "execute_result",
          "data": {
            "text/plain": [
              "array([[ 2,  4,  6,  8],\n",
              "       [10, 12, 14, 16],\n",
              "       [18, 18, 14, 10],\n",
              "       [10, 12,  6, 12]])"
            ]
          },
          "metadata": {},
          "execution_count": 7
        }
      ]
    },
    {
      "cell_type": "code",
      "source": [
        "m2-m1"
      ],
      "metadata": {
        "colab": {
          "base_uri": "https://localhost:8080/"
        },
        "id": "2fuJSuqApDpT",
        "outputId": "81bc3d52-0027-4c0c-e0c1-918e92b47506"
      },
      "execution_count": null,
      "outputs": [
        {
          "output_type": "execute_result",
          "data": {
            "text/plain": [
              "array([[1, 2, 3, 4],\n",
              "       [5, 6, 7, 8],\n",
              "       [9, 9, 7, 5],\n",
              "       [5, 6, 3, 6]])"
            ]
          },
          "metadata": {},
          "execution_count": 8
        }
      ]
    },
    {
      "cell_type": "code",
      "source": [
        "m1*m2"
      ],
      "metadata": {
        "colab": {
          "base_uri": "https://localhost:8080/"
        },
        "id": "WFKi85CRpF0t",
        "outputId": "92012af2-e44b-4366-9d11-d8617886bb1d"
      },
      "execution_count": null,
      "outputs": [
        {
          "output_type": "execute_result",
          "data": {
            "text/plain": [
              "array([[  2,   8,  18,  32],\n",
              "       [ 50,  72,  98, 128],\n",
              "       [162, 162,  98,  50],\n",
              "       [ 50,  72,  18,  72]])"
            ]
          },
          "metadata": {},
          "execution_count": 10
        }
      ]
    },
    {
      "cell_type": "code",
      "source": [
        "m2/m1"
      ],
      "metadata": {
        "colab": {
          "base_uri": "https://localhost:8080/"
        },
        "id": "6za82-vEpcbY",
        "outputId": "2797f105-4109-479b-972d-a75c1f38b729"
      },
      "execution_count": null,
      "outputs": [
        {
          "output_type": "execute_result",
          "data": {
            "text/plain": [
              "array([[2., 2., 2., 2.],\n",
              "       [2., 2., 2., 2.],\n",
              "       [2., 2., 2., 2.],\n",
              "       [2., 2., 2., 2.]])"
            ]
          },
          "metadata": {},
          "execution_count": 11
        }
      ]
    },
    {
      "cell_type": "code",
      "source": [
        "m1/m2"
      ],
      "metadata": {
        "colab": {
          "base_uri": "https://localhost:8080/"
        },
        "id": "IRCHRLCjpkms",
        "outputId": "7b4275be-e098-473f-f702-266b04605d8c"
      },
      "execution_count": null,
      "outputs": [
        {
          "output_type": "execute_result",
          "data": {
            "text/plain": [
              "array([[0.5, 0.5, 0.5, 0.5],\n",
              "       [0.5, 0.5, 0.5, 0.5],\n",
              "       [0.5, 0.5, 0.5, 0.5],\n",
              "       [0.5, 0.5, 0.5, 0.5]])"
            ]
          },
          "metadata": {},
          "execution_count": 12
        }
      ]
    },
    {
      "cell_type": "code",
      "source": [
        "m1%m2"
      ],
      "metadata": {
        "colab": {
          "base_uri": "https://localhost:8080/"
        },
        "id": "3x7KRvdjpnfc",
        "outputId": "08c611a7-9548-431e-fafe-599baa9caab9"
      },
      "execution_count": null,
      "outputs": [
        {
          "output_type": "execute_result",
          "data": {
            "text/plain": [
              "array([[1, 2, 3, 4],\n",
              "       [5, 6, 7, 8],\n",
              "       [9, 9, 7, 5],\n",
              "       [5, 6, 3, 6]])"
            ]
          },
          "metadata": {},
          "execution_count": 15
        }
      ]
    }
  ]
}