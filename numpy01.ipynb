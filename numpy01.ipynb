{
  "nbformat": 4,
  "nbformat_minor": 0,
  "metadata": {
    "colab": {
      "provenance": []
    },
    "kernelspec": {
      "name": "python3",
      "display_name": "Python 3"
    },
    "language_info": {
      "name": "python"
    }
  },
  "cells": [
    {
      "cell_type": "code",
      "execution_count": null,
      "metadata": {
        "id": "QUMmS9FF0qql"
      },
      "outputs": [],
      "source": []
    },
    {
      "cell_type": "markdown",
      "source": [
        "numpy:\\\n",
        "\n",
        "* genral purpose array - processing language\n",
        "\n",
        "* high-performance multidimensional array object, and tools for working with these arrays."
      ],
      "metadata": {
        "id": "cQOMkteC0t4l"
      }
    },
    {
      "cell_type": "code",
      "source": [
        "import numpy as n"
      ],
      "metadata": {
        "id": "XgNm0dQD1wWz"
      },
      "execution_count": null,
      "outputs": []
    },
    {
      "cell_type": "code",
      "source": [
        "#creating in numpy array\n",
        "lst=[1,2,3,45,6,6]\n",
        "ar=n.array(lst)\n",
        "ar.dtype\n"
      ],
      "metadata": {
        "colab": {
          "base_uri": "https://localhost:8080/"
        },
        "id": "ZRlo6oNC3Dtc",
        "outputId": "6364f3f4-bf5b-459b-9a3a-cd820545f039"
      },
      "execution_count": null,
      "outputs": [
        {
          "output_type": "execute_result",
          "data": {
            "text/plain": [
              "dtype('int64')"
            ]
          },
          "metadata": {},
          "execution_count": 3
        }
      ]
    },
    {
      "cell_type": "code",
      "source": [
        "import pandas as pd\n",
        "nd=n.array([1,2,3,4,5])\n",
        "nf=pd.Series(nd)\n",
        "nf"
      ],
      "metadata": {
        "colab": {
          "base_uri": "https://localhost:8080/"
        },
        "id": "uqm22An9grf4",
        "outputId": "dcb87350-67eb-4c73-88e7-17ff00b64385"
      },
      "execution_count": null,
      "outputs": [
        {
          "output_type": "execute_result",
          "data": {
            "text/plain": [
              "0    1\n",
              "1    2\n",
              "2    3\n",
              "3    4\n",
              "4    5\n",
              "dtype: int64"
            ]
          },
          "metadata": {},
          "execution_count": 7
        }
      ]
    },
    {
      "cell_type": "markdown",
      "source": [
        "**Reshape**\n",
        " * returns the array with new shape with same data"
      ],
      "metadata": {
        "id": "Ie9FHhkSL16h"
      }
    },
    {
      "cell_type": "code",
      "source": [
        "ar.reshape(3,2)"
      ],
      "metadata": {
        "id": "9WItXYjuIXWE",
        "colab": {
          "base_uri": "https://localhost:8080/"
        },
        "outputId": "1d35d8ba-afd4-432d-82d1-f8d0dadcf338"
      },
      "execution_count": null,
      "outputs": [
        {
          "output_type": "execute_result",
          "data": {
            "text/plain": [
              "array([[ 1,  2],\n",
              "       [ 3, 45],\n",
              "       [ 6,  6]])"
            ]
          },
          "metadata": {},
          "execution_count": 4
        }
      ]
    },
    {
      "cell_type": "markdown",
      "source": [
        "**Broadcasting**"
      ],
      "metadata": {
        "id": "Ufxr6QMf_RyX"
      }
    },
    {
      "cell_type": "code",
      "source": [],
      "metadata": {
        "id": "oXDnFtxcB6lD"
      },
      "execution_count": null,
      "outputs": []
    },
    {
      "cell_type": "code",
      "source": [
        "ar1=n.array([[12,3,5,3],[3,3,5,9]])\n",
        "ar1.max()\n",
        "\n"
      ],
      "metadata": {
        "colab": {
          "base_uri": "https://localhost:8080/"
        },
        "id": "AvwdT-Tv3R9_",
        "outputId": "622711b9-4a71-4abc-eaf8-d3a022b7f5ef"
      },
      "execution_count": null,
      "outputs": [
        {
          "output_type": "execute_result",
          "data": {
            "text/plain": [
              "12"
            ]
          },
          "metadata": {},
          "execution_count": 43
        }
      ]
    },
    {
      "cell_type": "code",
      "source": [
        "ar1.ndim()"
      ],
      "metadata": {
        "id": "pDuSIq8qB7up"
      },
      "execution_count": null,
      "outputs": []
    },
    {
      "cell_type": "code",
      "source": [
        "ar1.min()"
      ],
      "metadata": {
        "colab": {
          "base_uri": "https://localhost:8080/"
        },
        "id": "Yb0rH6UGP-cv",
        "outputId": "9f3d4e16-bb0c-47fc-e485-b65a1fc04775"
      },
      "execution_count": null,
      "outputs": [
        {
          "output_type": "execute_result",
          "data": {
            "text/plain": [
              "3"
            ]
          },
          "metadata": {},
          "execution_count": 44
        }
      ]
    },
    {
      "cell_type": "code",
      "source": [
        "ar1.argmax() #returns the index of max() value"
      ],
      "metadata": {
        "colab": {
          "base_uri": "https://localhost:8080/"
        },
        "id": "1IRGa-A4QXzp",
        "outputId": "7e691c8f-ca8c-4645-ea22-1d9d32f84fc7"
      },
      "execution_count": null,
      "outputs": [
        {
          "output_type": "execute_result",
          "data": {
            "text/plain": [
              "0"
            ]
          },
          "metadata": {},
          "execution_count": 50
        }
      ]
    },
    {
      "cell_type": "code",
      "source": [
        "ar1.argmin()  #returns the index of min() value"
      ],
      "metadata": {
        "colab": {
          "base_uri": "https://localhost:8080/"
        },
        "id": "qa5HM9eAP-oL",
        "outputId": "1a45e71c-1376-40bc-c66b-1d656c38899d"
      },
      "execution_count": null,
      "outputs": [
        {
          "output_type": "execute_result",
          "data": {
            "text/plain": [
              "1"
            ]
          },
          "metadata": {},
          "execution_count": 47
        }
      ]
    },
    {
      "cell_type": "code",
      "source": [
        "# n.arange(1,10)    #for print range() using arange\n",
        "m=n.arange(1,12,2)\n",
        "m.reshape(3,2)\n"
      ],
      "metadata": {
        "colab": {
          "base_uri": "https://localhost:8080/"
        },
        "id": "JvypRaou7ReQ",
        "outputId": "274d9db1-2198-4693-97eb-6884ad007e72"
      },
      "execution_count": null,
      "outputs": [
        {
          "output_type": "execute_result",
          "data": {
            "text/plain": [
              "array([[ 1,  3],\n",
              "       [ 5,  7],\n",
              "       [ 9, 11]])"
            ]
          },
          "metadata": {},
          "execution_count": 2
        }
      ]
    },
    {
      "cell_type": "code",
      "source": [
        "#for creating zeros\n",
        "n.zeros(5)\n",
        "n.zeros((3,4))"
      ],
      "metadata": {
        "colab": {
          "base_uri": "https://localhost:8080/"
        },
        "id": "rfieFyeF7br-",
        "outputId": "d6850543-c1ce-4c13-dbb9-b32b67305174"
      },
      "execution_count": null,
      "outputs": [
        {
          "output_type": "execute_result",
          "data": {
            "text/plain": [
              "array([[0., 0., 0., 0.],\n",
              "       [0., 0., 0., 0.],\n",
              "       [0., 0., 0., 0.]])"
            ]
          },
          "metadata": {},
          "execution_count": 87
        }
      ]
    },
    {
      "cell_type": "code",
      "source": [
        "m1=n.zeros((3,5))\n",
        "mm=m1.shape[0] # no.of row\n",
        "mm=m1.shape[1] #no.of col\n",
        "mm"
      ],
      "metadata": {
        "colab": {
          "base_uri": "https://localhost:8080/"
        },
        "id": "CUk3FrAD-3a2",
        "outputId": "9cf73e49-4d3d-432c-aca6-ca7fc5bc4068"
      },
      "execution_count": null,
      "outputs": [
        {
          "output_type": "execute_result",
          "data": {
            "text/plain": [
              "5"
            ]
          },
          "metadata": {},
          "execution_count": 3
        }
      ]
    },
    {
      "cell_type": "code",
      "source": [
        "#for creating ones\n",
        "n.ones(5)      #o/p  :  array([1., 1., 1., 1., 1.])\n",
        "n.ones((2,4))"
      ],
      "metadata": {
        "colab": {
          "base_uri": "https://localhost:8080/"
        },
        "id": "B-cGdTw28nuy",
        "outputId": "2abfa14c-7b9f-4b37-c0a3-97454f3c28e1"
      },
      "execution_count": null,
      "outputs": [
        {
          "output_type": "execute_result",
          "data": {
            "text/plain": [
              "array([[1., 1., 1., 1.],\n",
              "       [1., 1., 1., 1.]])"
            ]
          },
          "metadata": {},
          "execution_count": 83
        }
      ]
    },
    {
      "cell_type": "code",
      "source": [
        " #for seprating values (divide what i want )\n",
        " n.linspace(1,100,4)"
      ],
      "metadata": {
        "colab": {
          "base_uri": "https://localhost:8080/"
        },
        "id": "ew4q5I1p9brq",
        "outputId": "dd82fa3d-72f2-4f1d-d482-4a73c1c5d683"
      },
      "execution_count": null,
      "outputs": [
        {
          "output_type": "execute_result",
          "data": {
            "text/plain": [
              "array([  1.,  34.,  67., 100.])"
            ]
          },
          "metadata": {},
          "execution_count": 52
        }
      ]
    },
    {
      "cell_type": "code",
      "source": [
        "#for creating matrix form 5=[5,5] or 7=[7,7]\n",
        "n.eye(5)\n"
      ],
      "metadata": {
        "colab": {
          "base_uri": "https://localhost:8080/"
        },
        "id": "EGCmI-lm_KyN",
        "outputId": "a7ed25ca-10e3-44d1-8cf6-eeac7a76c0da"
      },
      "execution_count": null,
      "outputs": [
        {
          "output_type": "execute_result",
          "data": {
            "text/plain": [
              "array([[1., 0., 0., 0., 0.],\n",
              "       [0., 1., 0., 0., 0.],\n",
              "       [0., 0., 1., 0., 0.],\n",
              "       [0., 0., 0., 1., 0.],\n",
              "       [0., 0., 0., 0., 1.]])"
            ]
          },
          "metadata": {},
          "execution_count": 63
        }
      ]
    },
    {
      "cell_type": "code",
      "source": [
        " #creat 4,4 matrix and reshape 2,2\n",
        "m=n.eye(4)\n",
        "m=m.reshape(2,8)\n",
        "print(m)\n",
        "p=m.shape\n",
        "print(p)\n",
        "\n"
      ],
      "metadata": {
        "colab": {
          "base_uri": "https://localhost:8080/"
        },
        "id": "FJb_MXwVTVql",
        "outputId": "245457a4-4802-4f7f-e42c-3b07dcd148d4"
      },
      "execution_count": null,
      "outputs": [
        {
          "output_type": "stream",
          "name": "stdout",
          "text": [
            "[[1. 0. 0. 0. 0. 1. 0. 0.]\n",
            " [0. 0. 1. 0. 0. 0. 0. 1.]]\n",
            "(2, 8)\n"
          ]
        }
      ]
    },
    {
      "cell_type": "markdown",
      "source": [
        "**random:**\n",
        " * for creating random numbers\n",
        " * we can create random matrix also\n",
        " * for random valuve within 0 use rand(),\n",
        "   for 1 to 10 use randint(1,10,5),\n",
        "   for random syntax value rand(3,4)"
      ],
      "metadata": {
        "id": "2Gp97WtMAF57"
      }
    },
    {
      "cell_type": "code",
      "source": [
        "#for creating random numbers using rand()---used for 0 to 1 random num\n",
        "n.random.rand(5)"
      ],
      "metadata": {
        "colab": {
          "base_uri": "https://localhost:8080/"
        },
        "id": "vZ7WENov_aFT",
        "outputId": "5bc0617f-1bff-4f25-adc6-0973f2821f3f"
      },
      "execution_count": null,
      "outputs": [
        {
          "output_type": "execute_result",
          "data": {
            "text/plain": [
              "array([0.71465572, 0.84063747, 0.19505752, 0.56719419, 0.58947501])"
            ]
          },
          "metadata": {},
          "execution_count": 34
        }
      ]
    },
    {
      "cell_type": "code",
      "source": [
        "n.random.rand(5,5,2)  #for random matrix"
      ],
      "metadata": {
        "colab": {
          "base_uri": "https://localhost:8080/"
        },
        "id": "ew49O5yxACnJ",
        "outputId": "33699e5b-c6ad-4c02-e42d-85249f582208"
      },
      "execution_count": null,
      "outputs": [
        {
          "output_type": "execute_result",
          "data": {
            "text/plain": [
              "array([[[0.31664804, 0.35172024],\n",
              "        [0.69701504, 0.70040445],\n",
              "        [0.18718851, 0.66843371],\n",
              "        [0.79838791, 0.30428186],\n",
              "        [0.58676554, 0.97469501]],\n",
              "\n",
              "       [[0.32041005, 0.50652282],\n",
              "        [0.56124383, 0.70687318],\n",
              "        [0.08669308, 0.26490425],\n",
              "        [0.59385946, 0.07491937],\n",
              "        [0.92709478, 0.83712207]],\n",
              "\n",
              "       [[0.49217914, 0.63214834],\n",
              "        [0.138518  , 0.27572339],\n",
              "        [0.64971776, 0.04126577],\n",
              "        [0.07550961, 0.20585628],\n",
              "        [0.85881109, 0.78773834]],\n",
              "\n",
              "       [[0.2685448 , 0.11861636],\n",
              "        [0.57964027, 0.88683187],\n",
              "        [0.57735062, 0.46862432],\n",
              "        [0.89332363, 0.3641132 ],\n",
              "        [0.13031031, 0.12830617]],\n",
              "\n",
              "       [[0.19886744, 0.76848073],\n",
              "        [0.13034452, 0.45207578],\n",
              "        [0.00225192, 0.88041996],\n",
              "        [0.05872866, 0.51257524],\n",
              "        [0.25859469, 0.03456599]]])"
            ]
          },
          "metadata": {},
          "execution_count": 11
        }
      ]
    },
    {
      "cell_type": "code",
      "source": [
        "#for crearing random number 1 to -----\n",
        "n.random.randint(2,20,4)"
      ],
      "metadata": {
        "colab": {
          "base_uri": "https://localhost:8080/"
        },
        "id": "5ZnbkH1xGmzr",
        "outputId": "394574fb-d9db-4499-9566-306eff3a449b"
      },
      "execution_count": null,
      "outputs": [
        {
          "output_type": "execute_result",
          "data": {
            "text/plain": [
              "array([ 6, 17, 15,  7])"
            ]
          },
          "metadata": {},
          "execution_count": 7
        }
      ]
    },
    {
      "cell_type": "code",
      "source": [
        "n.random.randn(4) # including (-) value"
      ],
      "metadata": {
        "colab": {
          "base_uri": "https://localhost:8080/"
        },
        "id": "nJhQ_W5JgzuV",
        "outputId": "1f7f0f98-3301-467b-b92d-2e6390e41d39"
      },
      "execution_count": null,
      "outputs": [
        {
          "output_type": "execute_result",
          "data": {
            "text/plain": [
              "array([ 0.57685019, -1.09192161,  1.48770723,  1.71927216])"
            ]
          },
          "metadata": {},
          "execution_count": 5
        }
      ]
    },
    {
      "cell_type": "code",
      "source": [],
      "metadata": {
        "id": "ScbZH5OkW1s0"
      },
      "execution_count": null,
      "outputs": []
    },
    {
      "cell_type": "code",
      "source": [],
      "metadata": {
        "id": "zSQ3dHngW1zf"
      },
      "execution_count": null,
      "outputs": []
    },
    {
      "cell_type": "code",
      "source": [
        "#practice"
      ],
      "metadata": {
        "id": "_kEt4w5SW13I"
      },
      "execution_count": null,
      "outputs": []
    },
    {
      "cell_type": "code",
      "source": [
        "lst=[1,2,3,[45,6]]\n",
        "ar=n.array(lst)\n",
        "ar.reshape(2,2)"
      ],
      "metadata": {
        "colab": {
          "base_uri": "https://localhost:8080/"
        },
        "id": "6UQM1416XqXL",
        "outputId": "65fee646-2098-4667-cd8f-b6a0ab340b59"
      },
      "execution_count": null,
      "outputs": [
        {
          "output_type": "stream",
          "name": "stderr",
          "text": [
            "<ipython-input-77-4bf34035cdd5>:2: VisibleDeprecationWarning: Creating an ndarray from ragged nested sequences (which is a list-or-tuple of lists-or-tuples-or ndarrays with different lengths or shapes) is deprecated. If you meant to do this, you must specify 'dtype=object' when creating the ndarray.\n",
            "  ar=n.array(lst)\n"
          ]
        },
        {
          "output_type": "execute_result",
          "data": {
            "text/plain": [
              "array([[1, 2],\n",
              "       [3, list([45, 6])]], dtype=object)"
            ]
          },
          "metadata": {},
          "execution_count": 77
        }
      ]
    },
    {
      "cell_type": "code",
      "source": [
        "s_ar=n.array(['h','a','r','i'])\n",
        "s_ar.reshape(2,2)"
      ],
      "metadata": {
        "colab": {
          "base_uri": "https://localhost:8080/"
        },
        "id": "dFQTn9ZBW16l",
        "outputId": "2576f080-005e-4ab3-a315-7aea0b3a6727"
      },
      "execution_count": null,
      "outputs": [
        {
          "output_type": "execute_result",
          "data": {
            "text/plain": [
              "array([['h', 'a'],\n",
              "       ['r', 'i']], dtype='<U1')"
            ]
          },
          "metadata": {},
          "execution_count": 78
        }
      ]
    }
  ]
}